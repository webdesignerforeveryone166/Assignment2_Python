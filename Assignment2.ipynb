{
 "cells": [
  {
   "cell_type": "markdown",
   "metadata": {},
   "source": [
    "# Assignmnt 2"
   ]
  },
  {
   "cell_type": "code",
   "execution_count": 1,
   "metadata": {},
   "outputs": [
    {
     "name": "stdout",
     "output_type": "stream",
     "text": [
      "Enter a score:0.95\n",
      "your grade is A\n",
      "you have achieved above excellence :\n"
     ]
    }
   ],
   "source": [
    "# Question:1 To check grade of student\n",
    "# Create a grading system\n",
    "Score = input(\"Enter a score:\")\n",
    "\n",
    "try:\n",
    "    score = float(Score)\n",
    "\n",
    "    if score >= 0.9 and score <= 1.0:\n",
    "        print(\"your grade is A\")\n",
    "        print(\"you have achieved above excellence :\")\n",
    "\n",
    "    elif score >= 0.8 and score <= 0.9:\n",
    "        print(\"your grade is B\")\n",
    "        print(\"you are close to achieving excellence :\")\n",
    "\n",
    "    elif score >= 0.7 and score <= 0.8:\n",
    "        print(\"your grade is C\")\n",
    "        print(\"your potential shows you can achive more just keep work hard:\")\n",
    "\n",
    "    elif score >= 0.6 and score <= 0.7:\n",
    "        print(\"your grade is D\")\n",
    "        print(\"you have passed , now you have to achieve excellence just keep your ASS UP:\")\n",
    "\n",
    "    elif score < 0.6:\n",
    "        print(\"Your grade is F\")\n",
    "        print(\"Better luck next time , A single piece of paper can not decide your future\")\n",
    "\n",
    "    else:\n",
    "        print(\"You have entered wrong , check again your score\")\n",
    "\n",
    "except:\n",
    "    print(\"Bad Score\")\n"
   ]
  },
  {
   "cell_type": "code",
   "execution_count": 2,
   "metadata": {},
   "outputs": [
    {
     "name": "stdout",
     "output_type": "stream",
     "text": [
      "2\n",
      "3\n",
      "5\n",
      "7\n",
      "11\n",
      "13\n",
      "17\n",
      "19\n",
      "23\n",
      "29\n",
      "31\n",
      "37\n",
      "41\n",
      "43\n",
      "47\n",
      "53\n",
      "59\n",
      "61\n",
      "67\n",
      "71\n",
      "73\n",
      "79\n",
      "83\n",
      "89\n",
      "97\n"
     ]
    }
   ],
   "source": [
    "# Qustion 2\n",
    "# Check prime numbrs from 1 to 100\n",
    "for num in range(1,100 + 1):  \n",
    "   if num > 1:  \n",
    "       for i in range(2,num):  \n",
    "           if (num % i) == 0:  \n",
    "               break  \n",
    "       else:  \n",
    "           print(num)  "
   ]
  },
  {
   "cell_type": "code",
   "execution_count": 3,
   "metadata": {},
   "outputs": [
    {
     "name": "stdout",
     "output_type": "stream",
     "text": [
      "Table of 1\n",
      "1\n",
      "2\n",
      "3\n",
      "4\n",
      "5\n",
      "6\n",
      "7\n",
      "8\n",
      "9\n",
      "10\n",
      "Table of 2\n",
      "2\n",
      "4\n",
      "6\n",
      "8\n",
      "10\n",
      "12\n",
      "14\n",
      "16\n",
      "18\n",
      "20\n",
      "Table of 3\n",
      "3\n",
      "6\n",
      "9\n",
      "12\n",
      "15\n",
      "18\n",
      "21\n",
      "24\n",
      "27\n",
      "30\n",
      "Table of 4\n",
      "4\n",
      "8\n",
      "12\n",
      "16\n",
      "20\n",
      "24\n",
      "28\n",
      "32\n",
      "36\n",
      "40\n",
      "Table of 5\n",
      "5\n",
      "10\n",
      "15\n",
      "20\n",
      "25\n",
      "30\n",
      "35\n",
      "40\n",
      "45\n",
      "50\n",
      "Table of 6\n",
      "6\n",
      "12\n",
      "18\n",
      "24\n",
      "30\n",
      "36\n",
      "42\n",
      "48\n",
      "54\n",
      "60\n",
      "Table of 7\n",
      "7\n",
      "14\n",
      "21\n",
      "28\n",
      "35\n",
      "42\n",
      "49\n",
      "56\n",
      "63\n",
      "70\n",
      "Table of 8\n",
      "8\n",
      "16\n",
      "24\n",
      "32\n",
      "40\n",
      "48\n",
      "56\n",
      "64\n",
      "72\n",
      "80\n",
      "Table of 9\n",
      "9\n",
      "18\n",
      "27\n",
      "36\n",
      "45\n",
      "54\n",
      "63\n",
      "72\n",
      "81\n",
      "90\n",
      "Table of 10\n",
      "10\n",
      "20\n",
      "30\n",
      "40\n",
      "50\n",
      "60\n",
      "70\n",
      "80\n",
      "90\n",
      "100\n"
     ]
    }
   ],
   "source": [
    "# Question 3 to print table from 1 to 10\n",
    "for i in range(1,11):\n",
    "    print('Table of',i)\n",
    "    for j in range(1,11):\n",
    "        print(i*j)         # Printing table from 1 to 10"
   ]
  },
  {
   "cell_type": "code",
   "execution_count": 7,
   "metadata": {},
   "outputs": [
    {
     "name": "stdout",
     "output_type": "stream",
     "text": [
      "Enter Ending Range:100\n",
      "1 2 3 5 7 11 13 17 19 23 29 31 37 41 43 47 53 59 61 67 71 73 79 83 89 97 "
     ]
    }
   ],
   "source": [
    "# To print prime number in given range\n",
    "# Question 4\n",
    "\n",
    "l = 1\n",
    "h = int(input(\"Enter Ending Range:\"))\n",
    "while l <= h:\n",
    "    f = -1\n",
    "    j = 2\n",
    "    while j <= l/2:\n",
    "        if (l%j) ==0:\n",
    "            f = f+1\n",
    "            j = j + 1\n",
    "        else:\n",
    "            j = j +1\n",
    "\n",
    "    if f == -1:\n",
    "        print(l, end=\" \")\n",
    "        l = l + 1\n",
    "    else:\n",
    "        l = l+1"
   ]
  },
  {
   "cell_type": "code",
   "execution_count": null,
   "metadata": {},
   "outputs": [],
   "source": [
    "# Assignment complete"
   ]
  }
 ],
 "metadata": {
  "kernelspec": {
   "display_name": "Python 3",
   "language": "python",
   "name": "python3"
  },
  "language_info": {
   "codemirror_mode": {
    "name": "ipython",
    "version": 3
   },
   "file_extension": ".py",
   "mimetype": "text/x-python",
   "name": "python",
   "nbconvert_exporter": "python",
   "pygments_lexer": "ipython3",
   "version": "3.8.3"
  }
 },
 "nbformat": 4,
 "nbformat_minor": 4
}
